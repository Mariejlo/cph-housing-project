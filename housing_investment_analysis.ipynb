{
  "nbformat": 4,
  "nbformat_minor": 0,
  "metadata": {
    "colab": {
      "provenance": [],
      "authorship_tag": "ABX9TyPIYCLzIH3VZX1AClrN0upG",
      "include_colab_link": true
    },
    "kernelspec": {
      "name": "python3",
      "display_name": "Python 3"
    },
    "language_info": {
      "name": "python"
    }
  },
  "cells": [
    {
      "cell_type": "markdown",
      "metadata": {
        "id": "view-in-github",
        "colab_type": "text"
      },
      "source": [
        "<a href=\"https://colab.research.google.com/github/Mariejlo/cph-housing-project/blob/main/housing_investment_analysis.ipynb\" target=\"_parent\"><img src=\"https://colab.research.google.com/assets/colab-badge.svg\" alt=\"Open In Colab\"/></a>"
      ]
    },
    {
      "cell_type": "markdown",
      "source": [
        "Connection google drive to work"
      ],
      "metadata": {
        "id": "zulhwG5rWmWX"
      }
    },
    {
      "cell_type": "code",
      "execution_count": 1,
      "metadata": {
        "id": "kDCLxgsHWhbG"
      },
      "outputs": [],
      "source": [
        "import os"
      ]
    },
    {
      "cell_type": "markdown",
      "source": [
        "Creation folders in Github repository"
      ],
      "metadata": {
        "id": "31muKoevcNtU"
      }
    },
    {
      "cell_type": "code",
      "source": [
        "#Define folder structure\n",
        "folders = [\"data\", \"notebooks\", \"scripts\"]\n",
        "\n",
        "#Folder creation\n",
        "for folder in folders:\n",
        "  os.makedirs(folder, exist_ok=True)\n",
        "print(\"Folder structure created!\")"
      ],
      "metadata": {
        "colab": {
          "base_uri": "https://localhost:8080/"
        },
        "id": "TWvfn3lQcZ8-",
        "outputId": "06a0807c-5cd7-4899-b7b7-c88a1622c2b6"
      },
      "execution_count": 2,
      "outputs": [
        {
          "output_type": "stream",
          "name": "stdout",
          "text": [
            "Folder structure created!\n"
          ]
        }
      ]
    }
  ]
}